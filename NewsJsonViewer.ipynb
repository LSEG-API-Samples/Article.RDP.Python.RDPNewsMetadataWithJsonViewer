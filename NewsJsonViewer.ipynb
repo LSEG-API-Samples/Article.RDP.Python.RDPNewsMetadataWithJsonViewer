{
 "cells": [
  {
   "cell_type": "markdown",
   "metadata": {},
   "source": [
    "# Exploring RDP News Metadata with JSON Viewer\n",
    "Get started by absorbing valid RDP credentials"
   ]
  },
  {
   "cell_type": "code",
   "execution_count": null,
   "metadata": {},
   "outputs": [],
   "source": [
    "%run ./credentials.ipynb"
   ]
  },
  {
   "cell_type": "markdown",
   "metadata": {},
   "source": [
    "##  Setup for RDP API Access"
   ]
  },
  {
   "cell_type": "code",
   "execution_count": null,
   "metadata": {},
   "outputs": [],
   "source": [
    "import requests, json, time, getopt, sys, pandas\n",
    "\n",
    "# Application Constants\n",
    "RDP_version = \"/v1\"\n",
    "base_URL = \"https://api.refinitiv.com\"\n",
    "category_URL = \"/auth/oauth2\"\n",
    "endpoint_URL = \"/token\"\n",
    "CLIENT_SECRET = \"\"\n",
    "SCOPE = \"trapi\"\n",
    "TOKEN_FILE = \"token.txt\"\n",
    "TOKEN_ENDPOINT = base_URL + category_URL + RDP_version + endpoint_URL"
   ]
  },
  {
   "cell_type": "markdown",
   "metadata": {},
   "source": [
    "## Obtain a Valid RDP Authentication Token "
   ]
  },
  {
   "cell_type": "code",
   "execution_count": null,
   "metadata": {
    "tags": []
   },
   "outputs": [],
   "source": [
    "def _requestNewToken(refreshToken):\n",
    "    if refreshToken is None:\n",
    "        tData = {\n",
    "            \"username\": RDP_LOGIN,\n",
    "            \"password\": RDP_PASSWORD,\n",
    "            \"grant_type\": \"password\",\n",
    "            \"scope\": SCOPE,\n",
    "            \"takeExclusiveSignOnControl\": \"true\"\n",
    "        };\n",
    "    else:\n",
    "        tData = {\n",
    "            \"refresh_token\": refreshToken,\n",
    "            \"grant_type\": \"refresh_token\",\n",
    "        };\n",
    "\n",
    "    # Make a REST call to get latest access token\n",
    "    response = requests.post(\n",
    "        TOKEN_ENDPOINT,\n",
    "        headers = {\n",
    "            \"Accept\": \"application/json\"\n",
    "        },\n",
    "        data = tData,\n",
    "        auth = (\n",
    "            APP_KEY,\n",
    "            CLIENT_SECRET\n",
    "        )\n",
    "    )\n",
    "    \n",
    "    if response.status_code != 200:\n",
    "        raise Exception(\"Failed to get access token {0} - {1}\".format(response.status_code, response.text));\n",
    "\n",
    "    # Return the new token\n",
    "    return json.loads(response.text);\n",
    "\n",
    "def saveToken(tknObject):\n",
    "    tf = open(TOKEN_FILE, \"w+\");\n",
    "    print(\"Saving the new token\");\n",
    "    # Append the expiry time to token\n",
    "    tknObject[\"expiry_tm\"] = time.time() + int(tknObject[\"expires_in\"]) - 10;\n",
    "    # Store it in the file\n",
    "    json.dump(tknObject, tf, indent=4)\n",
    "\n",
    "def getToken():\n",
    "    try:\n",
    "        print(\"Reading the token from: \" + TOKEN_FILE);\n",
    "        # Read the token from a file\n",
    "        tf = open(TOKEN_FILE, \"r+\")\n",
    "        tknObject = json.load(tf);\n",
    "\n",
    "        # Is access token valid\n",
    "        if tknObject[\"expiry_tm\"] > time.time():\n",
    "            # return access token\n",
    "            return tknObject[\"access_token\"];\n",
    "\n",
    "        print(\"Token expired, refreshing a new one...\");\n",
    "        tf.close();\n",
    "        # Get a new token from refresh token\n",
    "        tknObject = _requestNewToken(tknObject[\"refresh_token\"]);\n",
    "\n",
    "    except Exception as exp:\n",
    "        print(\"Caught exception: \" + str(exp))\n",
    "        print(\"Getting a new token using Password Grant...\");\n",
    "        tknObject = _requestNewToken(None);\n",
    "\n",
    "    # Persist this token for future queries\n",
    "    saveToken(tknObject)\n",
    "    print(\"Token is: \" + tknObject[\"access_token\"])\n",
    "    # Return access token\n",
    "    return tknObject[\"access_token\"];    \n",
    "    \n",
    "token = getToken()\n",
    "token"
   ]
  },
  {
   "cell_type": "markdown",
   "metadata": {},
   "source": [
    "## Request N News Headlines"
   ]
  },
  {
   "cell_type": "code",
   "execution_count": null,
   "metadata": {
    "tags": []
   },
   "outputs": [],
   "source": [
    "def getHeadlines(query, numLines, date_from='', date_to='', return_as_text=False):\n",
    "    news_category_URL = \"/data/news\"\n",
    "    headlines_endpoint_URL = \"/headlines?query=\"\n",
    "\n",
    "    REQUEST_URL = base_URL + news_category_URL + RDP_version + headlines_endpoint_URL+ query +\"&limit=\"+ str(numLines)\n",
    "    if date_from != '':\n",
    "        REQUEST_URL = REQUEST_URL + '&dateFrom='+date_from\n",
    "    if date_to != '':\n",
    "        REQUEST_URL = REQUEST_URL + '&dateTo='+date_to\n",
    "    \n",
    "    accessToken = getToken();\n",
    "    print(\"Requesting: \",REQUEST_URL)\n",
    "    \n",
    "    acceptValue = \"*/*\"\n",
    "    dResp = requests.get(REQUEST_URL, headers = {\"Authorization\": \"Bearer \" + accessToken, \"Accept\": acceptValue});\n",
    "    \n",
    "    if dResp.status_code != 200:\n",
    "        print(\"Unable to get data. Code %s, Message: %s\" % (dResp.status_code, dResp.text));\n",
    "        if dResp.status_code != 401:   # error other then token expired\n",
    "            return(\"Error \"+str(dResp.status_code)) \n",
    "        accessToken = getToken();     # token refresh on token expired\n",
    "        dResp = requests.get(REQUEST_URL, headers = {\"Authorization\": \"Bearer \" + accessToken, \"Accept\": acceptValue});\n",
    "        if dResp.status_code == 200:\n",
    "            print(\"Resource access successful\")\n",
    "    else:\n",
    "        print(\"Resource access successful\")\n",
    "    if return_as_text:\n",
    "        return dResp.text\n",
    "    jResp = json.loads(dResp.text);\n",
    "    dfH = pandas.json_normalize(jResp,record_path =['data'])\n",
    "    return dfH\n",
    "N = 50\n",
    "#query = 'R:CLc1 AND Language:LEN';\n",
    "query = 'AAPL.O, GOOG.O';\n",
    "dfHeadlines = getHeadlines(query,N)\n",
    "dfHeadlines"
   ]
  },
  {
   "cell_type": "markdown",
   "metadata": {},
   "source": [
    "## Request a Story - Define a Function  "
   ]
  },
  {
   "cell_type": "code",
   "execution_count": null,
   "metadata": {
    "tags": []
   },
   "outputs": [],
   "source": [
    "def getStory(storyId, jsonOrHtml):\n",
    "    news_category_URL = \"/data/news\"\n",
    "    story_endpoint_URL = \"/stories\"\n",
    "\n",
    "    REQUEST_URL = base_URL + news_category_URL + RDP_version + story_endpoint_URL+ \"/\" + storyId \n",
    "\n",
    "    accessToken = getToken();\n",
    "    print(\"Requesting: \",REQUEST_URL)\n",
    "    \n",
    "    acceptValue = \"application/json\"\n",
    "    if jsonOrHtml != True:\n",
    "        acceptValue = \"text/html\"\n",
    "    dResp = requests.get(REQUEST_URL, headers = {\"Authorization\": \"Bearer \" + accessToken, \"Accept\": acceptValue});\n",
    "    if dResp.status_code != 200:\n",
    "        print(\"Unable to get data. Code %s, Message: %s\" % (dResp.status_code, dResp.text));\n",
    "        if dResp.status_code != 401:   # error other then token expired\n",
    "            return(\"\") \n",
    "        accessToken = getToken();     # token refresh on token expired\n",
    "    else:\n",
    "        print(\"Resource access successful\")\n",
    "        return dResp.text"
   ]
  },
  {
   "cell_type": "markdown",
   "metadata": {},
   "source": [
    "## Request Story in Json"
   ]
  },
  {
   "cell_type": "code",
   "execution_count": null,
   "metadata": {
    "tags": []
   },
   "outputs": [],
   "source": [
    "txt = getStory('urn:newsml:reuters.com:20210722:nDJR2R6XjM:1',True)\n",
    "#txt = getStory('urn:newsml:reuters.com:20210811:nL1N2PI1YN:9')\n",
    "#txt = getStory('urn:newsml:reuters.com:20210811:nTNF29sf:1', True)\n",
    "jResp = json.loads(txt);\n",
    "print(json.dumps(jResp, indent=2));"
   ]
  },
  {
   "cell_type": "markdown",
   "metadata": {},
   "source": [
    "## Request Story for Display"
   ]
  },
  {
   "cell_type": "code",
   "execution_count": null,
   "metadata": {
    "tags": []
   },
   "outputs": [],
   "source": [
    "txt = getStory('urn:newsml:reuters.com:20210722:nDJR2R6XjM:1', False)\n",
    "print('********* story text')\n",
    "print(txt)  \n",
    "print('********* story HTML')\n",
    "from IPython.core.display import display, HTML\n",
    "display(HTML(txt))"
   ]
  },
  {
   "cell_type": "markdown",
   "metadata": {},
   "source": [
    "## Request Stories Corresponding to Headlines by StoryID\n",
    "First we just display the stories"
   ]
  },
  {
   "cell_type": "code",
   "execution_count": null,
   "metadata": {
    "tags": []
   },
   "outputs": [],
   "source": [
    "dfHeadlines\n",
    "for index, row in dfHeadlines.iterrows():\n",
    "    txt = getStory(row['storyId'], False)\n",
    "    display(HTML(txt))"
   ]
  },
  {
   "cell_type": "markdown",
   "metadata": {},
   "source": [
    "Request stories by story ID, and if content metadata is included with the story, derive and store news sentiment ratings of the story"
   ]
  },
  {
   "cell_type": "code",
   "execution_count": null,
   "metadata": {
    "tags": []
   },
   "outputs": [],
   "source": [
    "dfHeadlines\n",
    "listDfStories = []\n",
    "for index, row in dfHeadlines.iterrows():\n",
    "    fullJsonOut = getStory(row['storyId'], True)\n",
    "    if fullJsonOut == \"\":\n",
    "        break\n",
    "    jResp = json.loads(fullJsonOut);\n",
    "    print(json.dumps(jResp, indent=4));\n",
    "   \n",
    "    # store storyJson with the headline\n",
    "    dfHeadlines.loc[index, 'storyJson'] = fullJsonOut; \n",
    "    \n",
    "    # if ratings are available in metadata, parse them and store them with the headline\n",
    "    try:\n",
    "        content_meta = jResp['newsItem'].get('contentMeta')\n",
    "        if content_meta: #metedata exists\n",
    "            content_meta_ex_property = content_meta.get('contentMetaExtProperty')\n",
    "            if content_meta_ex_property:\n",
    "                for ex_property in content_meta_ex_property:\n",
    "                        if 'hasSentiment' in ex_property['_rel']:  #sentiment exists\n",
    "                            dfHeadlines.loc[index, ex_property['_rel']] = ex_property['_value']\n",
    "                        else:\n",
    "                            dfHeadlines.loc[index, ex_property['_rel']] = 'No sentiment'\n",
    "    except:\n",
    "        print('&&&EXCEPTED&&& on item:')\n",
    "        print(json.dumps(jResp, indent=4));\n",
    "        \n",
    "     # put json into dataframe\n",
    "    dfS = pandas.json_normalize(jResp) \n",
    "    # collect a list of story dataframes\n",
    "    listDfStories.append(dfS)\n",
    "dfHeadlines\n",
    "dfStories = pandas.concat(listDfStories)  #turn into a dataframe"
   ]
  },
  {
   "cell_type": "markdown",
   "metadata": {},
   "source": [
    "## See which of the Stories Were Rated"
   ]
  },
  {
   "cell_type": "code",
   "execution_count": null,
   "metadata": {
    "tags": []
   },
   "outputs": [],
   "source": [
    "pandas.set_option('display.max_rows', None)\n",
    "dfHeadlines\n",
    "dfHeadlines[['storyId','extCptRel:hasSentimentPositive','extCptRel:hasSentimentNegative','extCptRel:hasSentimentNeutral']]"
   ]
  },
  {
   "cell_type": "markdown",
   "metadata": {},
   "source": [
    "## Request per StoryId and Display Story in HTML"
   ]
  },
  {
   "cell_type": "code",
   "execution_count": null,
   "metadata": {},
   "outputs": [],
   "source": [
    "html_story = getStory('urn:newsml:reuters.com:20210722:nDJR2R6XjM:1',False)\n",
    "html_story"
   ]
  },
  {
   "cell_type": "code",
   "execution_count": null,
   "metadata": {},
   "outputs": [],
   "source": [
    "HTML(html_story)"
   ]
  },
  {
   "cell_type": "markdown",
   "metadata": {},
   "source": [
    "##  Get Headlines with Parameters"
   ]
  },
  {
   "cell_type": "code",
   "execution_count": null,
   "metadata": {
    "tags": []
   },
   "outputs": [],
   "source": [
    "dfHeadlinesParam = getHeadlines('Google', 50, date_from='2019-10-01T00:00:00Z', date_to='2020-11-15T00:00:00Z')\n",
    "dfHeadlinesParam"
   ]
  },
  {
   "cell_type": "markdown",
   "metadata": {},
   "source": [
    "## Convenient Retrieval with RDP Library"
   ]
  },
  {
   "cell_type": "code",
   "execution_count": null,
   "metadata": {},
   "outputs": [],
   "source": [
    "import refinitiv.dataplatform as rdp\n",
    "from IPython.display import HTML\n",
    "\n",
    "%run ./credentials.ipynb"
   ]
  },
  {
   "cell_type": "code",
   "execution_count": null,
   "metadata": {},
   "outputs": [],
   "source": [
    "rdp.open_platform_session(\n",
    "    APP_KEY, \n",
    "    rdp.GrantPassword(\n",
    "        username = RDP_LOGIN, \n",
    "        password = RDP_PASSWORD\n",
    "    )\n",
    ")"
   ]
  },
  {
   "cell_type": "code",
   "execution_count": null,
   "metadata": {
    "tags": []
   },
   "outputs": [],
   "source": [
    "rdp.get_news_headlines(query = 'Google', count = 1000, date_from='2019-10-01', date_to='2020-11-15', sort_order='oldToNew' )"
   ]
  },
  {
   "cell_type": "markdown",
   "metadata": {},
   "source": [
    "##  Inspect Signature of a method (get_news_headlines)"
   ]
  },
  {
   "cell_type": "code",
   "execution_count": null,
   "metadata": {},
   "outputs": [],
   "source": [
    "from inspect import signature\n",
    "t = signature(rdp.get_news_headlines)\n",
    "print(t)"
   ]
  },
  {
   "cell_type": "markdown",
   "metadata": {},
   "source": [
    "## Examine Single Story with Json Viewer\n",
    "We are going to use\n",
    "https://github.com/AtsushiSakai/PyJSONViewer\n",
    "\n",
    "It is perhaps more interesting to examine one of the stories that were rated, "
   ]
  },
  {
   "cell_type": "code",
   "execution_count": null,
   "metadata": {
    "tags": []
   },
   "outputs": [],
   "source": [
    "import pyjsonviewer\n",
    "txt = getStory('urn:newsml:reuters.com:20211020:nL1N2RG24B:5',True)\n",
    "print(txt)\n",
    "jResp = json.loads(txt);\n",
    "pyjsonviewer.view_data(json_data=jResp)"
   ]
  },
  {
   "cell_type": "markdown",
   "metadata": {},
   "source": [
    "... we close the viewer before moving to the next steps"
   ]
  },
  {
   "cell_type": "markdown",
   "metadata": {},
   "source": [
    "## Examine Headlines with Relevant Stories Data with Json Viewer\n",
    "1. Convert headlines dataframe to json\n",
    "2. Load json\n",
    "3. Submit it to Json Viewer"
   ]
  },
  {
   "cell_type": "code",
   "execution_count": null,
   "metadata": {
    "tags": []
   },
   "outputs": [],
   "source": [
    "jsn = dfHeadlines.to_json(orient=\"records\")\n",
    "jsn.replace(\"\\\\\\\"\", \"\\\"\").strip()\n",
    "print(jsn)\n",
    "jResp = json.loads(jsn);\n",
    "import pyjsonviewer\n",
    "pyjsonviewer.view_data(json_data=jResp)"
   ]
  },
  {
   "cell_type": "markdown",
   "metadata": {},
   "source": [
    "## Examine Stories Metadata with Json Viewer"
   ]
  },
  {
   "cell_type": "code",
   "execution_count": null,
   "metadata": {
    "tags": []
   },
   "outputs": [],
   "source": [
    "jsn = dfStories.to_json(orient=\"records\")\n",
    "#print(jsn)\n",
    "jResp = json.loads(jsn);\n",
    "import pyjsonviewer\n",
    "pyjsonviewer.view_data(json_data=jResp)"
   ]
  },
  {
   "cell_type": "code",
   "execution_count": null,
   "metadata": {},
   "outputs": [],
   "source": []
  }
 ],
 "metadata": {
  "kernelspec": {
   "display_name": "Python 3",
   "language": "python",
   "name": "python3"
  },
  "language_info": {
   "codemirror_mode": {
    "name": "ipython",
    "version": 3
   },
   "file_extension": ".py",
   "mimetype": "text/x-python",
   "name": "python",
   "nbconvert_exporter": "python",
   "pygments_lexer": "ipython3",
   "version": "3.8.8"
  }
 },
 "nbformat": 4,
 "nbformat_minor": 4
}
